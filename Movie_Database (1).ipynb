{
 "cells": [
  {
   "cell_type": "markdown",
   "id": "3e60028c",
   "metadata": {},
   "source": [
    "# Data Analysis on list of well received movies in India\n",
    "\n",
    "Problem Statements :\n",
    "1. Find the top 20 Highest Grossing movies.\n",
    "2. Analyse how the Gross income earned from tickets has increased / decreased over the years\n",
    "3. Find the top 10 years that earned the most from the tickets"
   ]
  },
  {
   "cell_type": "code",
   "execution_count": 1,
   "id": "31f294f7",
   "metadata": {},
   "outputs": [],
   "source": [
    "#Importing Libraries\n",
    "\n",
    "import pandas as pd\n",
    "import numpy as np\n",
    "import matplotlib.pyplot as plt\n",
    "%matplotlib inline"
   ]
  },
  {
   "cell_type": "markdown",
   "id": "25c2356e",
   "metadata": {},
   "source": [
    "1. FINDING OUT THE TOP 20 HIGHEST GROSSING MOVIES"
   ]
  },
  {
   "cell_type": "code",
   "execution_count": 2,
   "id": "e100b1a9",
   "metadata": {},
   "outputs": [
    {
     "data": {
      "text/html": [
       "<div>\n",
       "<style scoped>\n",
       "    .dataframe tbody tr th:only-of-type {\n",
       "        vertical-align: middle;\n",
       "    }\n",
       "\n",
       "    .dataframe tbody tr th {\n",
       "        vertical-align: top;\n",
       "    }\n",
       "\n",
       "    .dataframe thead th {\n",
       "        text-align: right;\n",
       "    }\n",
       "</style>\n",
       "<table border=\"1\" class=\"dataframe\">\n",
       "  <thead>\n",
       "    <tr style=\"text-align: right;\">\n",
       "      <th></th>\n",
       "      <th>Unnamed: 0</th>\n",
       "      <th>Name</th>\n",
       "      <th>Rating</th>\n",
       "      <th>MetaScore</th>\n",
       "      <th>Vote_Count</th>\n",
       "      <th>Genre</th>\n",
       "      <th>Gross</th>\n",
       "      <th>Year</th>\n",
       "    </tr>\n",
       "  </thead>\n",
       "  <tbody>\n",
       "    <tr>\n",
       "      <th>0</th>\n",
       "      <td>0</td>\n",
       "      <td>The Trial of the Chicago 7</td>\n",
       "      <td>NaN</td>\n",
       "      <td>NaN</td>\n",
       "      <td>NaN</td>\n",
       "      <td>Drama, History, Thriller</td>\n",
       "      <td>NaN</td>\n",
       "      <td>2020.0</td>\n",
       "    </tr>\n",
       "    <tr>\n",
       "      <th>1</th>\n",
       "      <td>1</td>\n",
       "      <td>1917</td>\n",
       "      <td>8.3</td>\n",
       "      <td>78.0</td>\n",
       "      <td>369473.0</td>\n",
       "      <td>Drama, War</td>\n",
       "      <td>159,227,644</td>\n",
       "      <td>2019.0</td>\n",
       "    </tr>\n",
       "    <tr>\n",
       "      <th>2</th>\n",
       "      <td>2</td>\n",
       "      <td>Aashram</td>\n",
       "      <td>8.0</td>\n",
       "      <td>NaN</td>\n",
       "      <td>9356.0</td>\n",
       "      <td>Crime, Drama</td>\n",
       "      <td>NaN</td>\n",
       "      <td>2020.0</td>\n",
       "    </tr>\n",
       "    <tr>\n",
       "      <th>3</th>\n",
       "      <td>3</td>\n",
       "      <td>Cargo</td>\n",
       "      <td>5.8</td>\n",
       "      <td>NaN</td>\n",
       "      <td>1719.0</td>\n",
       "      <td>Drama, Fantasy, Sci-Fi</td>\n",
       "      <td>NaN</td>\n",
       "      <td>2019.0</td>\n",
       "    </tr>\n",
       "    <tr>\n",
       "      <th>4</th>\n",
       "      <td>4</td>\n",
       "      <td>Jumanji: Welcome to the Jungle</td>\n",
       "      <td>6.9</td>\n",
       "      <td>58.0</td>\n",
       "      <td>310005.0</td>\n",
       "      <td>Action, Adventure, Comedy</td>\n",
       "      <td>404,515,480</td>\n",
       "      <td>2017.0</td>\n",
       "    </tr>\n",
       "    <tr>\n",
       "      <th>...</th>\n",
       "      <td>...</td>\n",
       "      <td>...</td>\n",
       "      <td>...</td>\n",
       "      <td>...</td>\n",
       "      <td>...</td>\n",
       "      <td>...</td>\n",
       "      <td>...</td>\n",
       "      <td>...</td>\n",
       "    </tr>\n",
       "    <tr>\n",
       "      <th>67745</th>\n",
       "      <td>67745</td>\n",
       "      <td>The Octonauts</td>\n",
       "      <td>7.4</td>\n",
       "      <td>NaN</td>\n",
       "      <td>740.0</td>\n",
       "      <td>Animation</td>\n",
       "      <td>NaN</td>\n",
       "      <td>2010.0</td>\n",
       "    </tr>\n",
       "    <tr>\n",
       "      <th>67746</th>\n",
       "      <td>67746</td>\n",
       "      <td>Viceroy's House</td>\n",
       "      <td>6.7</td>\n",
       "      <td>53.0</td>\n",
       "      <td>6684.0</td>\n",
       "      <td>Biography, Drama, History</td>\n",
       "      <td>1,105,717</td>\n",
       "      <td>2017.0</td>\n",
       "    </tr>\n",
       "    <tr>\n",
       "      <th>67747</th>\n",
       "      <td>67747</td>\n",
       "      <td>Yeh Jawaani Hai Deewani</td>\n",
       "      <td>7.1</td>\n",
       "      <td>NaN</td>\n",
       "      <td>37427.0</td>\n",
       "      <td>Drama, Musical, Romance</td>\n",
       "      <td>3,827,466</td>\n",
       "      <td>2013.0</td>\n",
       "    </tr>\n",
       "    <tr>\n",
       "      <th>67748</th>\n",
       "      <td>67748</td>\n",
       "      <td>Tanhaji: The Unsung Warrior</td>\n",
       "      <td>7.6</td>\n",
       "      <td>NaN</td>\n",
       "      <td>19686.0</td>\n",
       "      <td>Action, Biography, Drama</td>\n",
       "      <td>NaN</td>\n",
       "      <td>2020.0</td>\n",
       "    </tr>\n",
       "    <tr>\n",
       "      <th>67749</th>\n",
       "      <td>67749</td>\n",
       "      <td>Dil Chahta Hai</td>\n",
       "      <td>8.1</td>\n",
       "      <td>NaN</td>\n",
       "      <td>65639.0</td>\n",
       "      <td>Comedy, Drama, Romance</td>\n",
       "      <td>300,000</td>\n",
       "      <td>2001.0</td>\n",
       "    </tr>\n",
       "  </tbody>\n",
       "</table>\n",
       "<p>67750 rows × 8 columns</p>\n",
       "</div>"
      ],
      "text/plain": [
       "       Unnamed: 0                            Name  Rating  MetaScore  \\\n",
       "0               0      The Trial of the Chicago 7     NaN        NaN   \n",
       "1               1                            1917     8.3       78.0   \n",
       "2               2                         Aashram     8.0        NaN   \n",
       "3               3                           Cargo     5.8        NaN   \n",
       "4               4  Jumanji: Welcome to the Jungle     6.9       58.0   \n",
       "...           ...                             ...     ...        ...   \n",
       "67745       67745                   The Octonauts     7.4        NaN   \n",
       "67746       67746                 Viceroy's House     6.7       53.0   \n",
       "67747       67747         Yeh Jawaani Hai Deewani     7.1        NaN   \n",
       "67748       67748     Tanhaji: The Unsung Warrior     7.6        NaN   \n",
       "67749       67749                  Dil Chahta Hai     8.1        NaN   \n",
       "\n",
       "       Vote_Count                                  Genre        Gross    Year  \n",
       "0             NaN   Drama, History, Thriller                      NaN  2020.0  \n",
       "1        369473.0                 Drama, War              159,227,644  2019.0  \n",
       "2          9356.0               Crime, Drama                      NaN  2020.0  \n",
       "3          1719.0     Drama, Fantasy, Sci-Fi                      NaN  2019.0  \n",
       "4        310005.0  Action, Adventure, Comedy              404,515,480  2017.0  \n",
       "...           ...                                    ...          ...     ...  \n",
       "67745       740.0                  Animation                      NaN  2010.0  \n",
       "67746      6684.0  Biography, Drama, History                1,105,717  2017.0  \n",
       "67747     37427.0    Drama, Musical, Romance                3,827,466  2013.0  \n",
       "67748     19686.0   Action, Biography, Drama                      NaN  2020.0  \n",
       "67749     65639.0     Comedy, Drama, Romance                  300,000  2001.0  \n",
       "\n",
       "[67750 rows x 8 columns]"
      ]
     },
     "execution_count": 2,
     "metadata": {},
     "output_type": "execute_result"
    }
   ],
   "source": [
    "#Importing the CSV file for analysis\n",
    "\n",
    "movies = pd.read_csv(\"IMDB_INDIA.csv\")\n",
    "movies"
   ]
  },
  {
   "cell_type": "markdown",
   "id": "d7f575a9",
   "metadata": {},
   "source": [
    "DATA CLEANING PROCESS"
   ]
  },
  {
   "cell_type": "code",
   "execution_count": 3,
   "id": "01e5bd25",
   "metadata": {},
   "outputs": [
    {
     "name": "stderr",
     "output_type": "stream",
     "text": [
      "C:\\Users\\navee\\AppData\\Local\\Temp/ipykernel_7504/3240183268.py:6: FutureWarning: The default value of regex will change from True to False in a future version.\n",
      "  movies[\"Gross\"] = movies[\"Gross\"].str.replace('[\\,]', '').astype(int)\n"
     ]
    },
    {
     "data": {
      "text/plain": [
       "0"
      ]
     },
     "execution_count": 3,
     "metadata": {},
     "output_type": "execute_result"
    }
   ],
   "source": [
    "#Removing ',' from values in Gross column and coverting them to int for performing numeric calculations.\n",
    "\n",
    "#Let's assume that the films that have a Gross value of NaN were released on OTT. Hence we can replace those NaN with zero values.\n",
    "\n",
    "movies[\"Gross\"].fillna('0', inplace = True)\n",
    "movies[\"Gross\"] = movies[\"Gross\"].str.replace('[\\,]', '').astype(int)\n",
    "\n",
    "#Checking for NaN values after the r\n",
    "movies[\"Gross\"].isna().sum()"
   ]
  },
  {
   "cell_type": "code",
   "execution_count": 4,
   "id": "3f5a73b7",
   "metadata": {},
   "outputs": [],
   "source": [
    "#Removing the additional unamed index column\n",
    "\n",
    "movies.drop(\"Unnamed: 0\", axis = 1, inplace = True)"
   ]
  },
  {
   "cell_type": "code",
   "execution_count": 5,
   "id": "96648603",
   "metadata": {},
   "outputs": [],
   "source": [
    "#Checking for duplicates in Movies column and removing them\n",
    "\n",
    "movies.drop_duplicates(subset=['Name', 'Year'], keep = 'first', inplace = True)"
   ]
  },
  {
   "cell_type": "code",
   "execution_count": 6,
   "id": "abd0b0d9",
   "metadata": {},
   "outputs": [
    {
     "data": {
      "text/plain": [
       "0"
      ]
     },
     "execution_count": 6,
     "metadata": {},
     "output_type": "execute_result"
    }
   ],
   "source": [
    "#Verifying that we don't have any duplicate movies\n",
    "\n",
    "movies.duplicated().sum()"
   ]
  },
  {
   "cell_type": "markdown",
   "id": "a3392291",
   "metadata": {},
   "source": [
    "FILTERING DATA BASED ON THE GROSS VALUE AND THE YEAR RELEASED"
   ]
  },
  {
   "cell_type": "code",
   "execution_count": 7,
   "id": "f4345980",
   "metadata": {},
   "outputs": [
    {
     "data": {
      "text/html": [
       "<div>\n",
       "<style scoped>\n",
       "    .dataframe tbody tr th:only-of-type {\n",
       "        vertical-align: middle;\n",
       "    }\n",
       "\n",
       "    .dataframe tbody tr th {\n",
       "        vertical-align: top;\n",
       "    }\n",
       "\n",
       "    .dataframe thead th {\n",
       "        text-align: right;\n",
       "    }\n",
       "</style>\n",
       "<table border=\"1\" class=\"dataframe\">\n",
       "  <thead>\n",
       "    <tr style=\"text-align: right;\">\n",
       "      <th></th>\n",
       "      <th>Gross</th>\n",
       "      <th>Year</th>\n",
       "    </tr>\n",
       "  </thead>\n",
       "  <tbody>\n",
       "    <tr>\n",
       "      <th>4</th>\n",
       "      <td>404515480</td>\n",
       "      <td>2017.0</td>\n",
       "    </tr>\n",
       "    <tr>\n",
       "      <th>16</th>\n",
       "      <td>209397903</td>\n",
       "      <td>2011.0</td>\n",
       "    </tr>\n",
       "    <tr>\n",
       "      <th>26</th>\n",
       "      <td>182207973</td>\n",
       "      <td>2012.0</td>\n",
       "    </tr>\n",
       "    <tr>\n",
       "      <th>1</th>\n",
       "      <td>159227644</td>\n",
       "      <td>2019.0</td>\n",
       "    </tr>\n",
       "    <tr>\n",
       "      <th>23</th>\n",
       "      <td>141319928</td>\n",
       "      <td>2008.0</td>\n",
       "    </tr>\n",
       "    <tr>\n",
       "      <th>5</th>\n",
       "      <td>137690172</td>\n",
       "      <td>2018.0</td>\n",
       "    </tr>\n",
       "    <tr>\n",
       "      <th>46</th>\n",
       "      <td>100240551</td>\n",
       "      <td>2011.0</td>\n",
       "    </tr>\n",
       "    <tr>\n",
       "      <th>58</th>\n",
       "      <td>85468508</td>\n",
       "      <td>2011.0</td>\n",
       "    </tr>\n",
       "    <tr>\n",
       "      <th>56</th>\n",
       "      <td>79884879</td>\n",
       "      <td>2011.0</td>\n",
       "    </tr>\n",
       "    <tr>\n",
       "      <th>13</th>\n",
       "      <td>75395035</td>\n",
       "      <td>2016.0</td>\n",
       "    </tr>\n",
       "    <tr>\n",
       "      <th>151</th>\n",
       "      <td>73921000</td>\n",
       "      <td>2017.0</td>\n",
       "    </tr>\n",
       "    <tr>\n",
       "      <th>33</th>\n",
       "      <td>72313754</td>\n",
       "      <td>2015.0</td>\n",
       "    </tr>\n",
       "    <tr>\n",
       "      <th>55</th>\n",
       "      <td>68549695</td>\n",
       "      <td>2018.0</td>\n",
       "    </tr>\n",
       "    <tr>\n",
       "      <th>84</th>\n",
       "      <td>64508620</td>\n",
       "      <td>2017.0</td>\n",
       "    </tr>\n",
       "    <tr>\n",
       "      <th>65</th>\n",
       "      <td>64506874</td>\n",
       "      <td>2008.0</td>\n",
       "    </tr>\n",
       "    <tr>\n",
       "      <th>64</th>\n",
       "      <td>55483770</td>\n",
       "      <td>2016.0</td>\n",
       "    </tr>\n",
       "    <tr>\n",
       "      <th>39</th>\n",
       "      <td>55100437</td>\n",
       "      <td>2011.0</td>\n",
       "    </tr>\n",
       "    <tr>\n",
       "      <th>95</th>\n",
       "      <td>54240821</td>\n",
       "      <td>2014.0</td>\n",
       "    </tr>\n",
       "    <tr>\n",
       "      <th>61</th>\n",
       "      <td>52767889</td>\n",
       "      <td>1982.0</td>\n",
       "    </tr>\n",
       "    <tr>\n",
       "      <th>69</th>\n",
       "      <td>43577636</td>\n",
       "      <td>2014.0</td>\n",
       "    </tr>\n",
       "  </tbody>\n",
       "</table>\n",
       "</div>"
      ],
      "text/plain": [
       "         Gross    Year\n",
       "4    404515480  2017.0\n",
       "16   209397903  2011.0\n",
       "26   182207973  2012.0\n",
       "1    159227644  2019.0\n",
       "23   141319928  2008.0\n",
       "5    137690172  2018.0\n",
       "46   100240551  2011.0\n",
       "58    85468508  2011.0\n",
       "56    79884879  2011.0\n",
       "13    75395035  2016.0\n",
       "151   73921000  2017.0\n",
       "33    72313754  2015.0\n",
       "55    68549695  2018.0\n",
       "84    64508620  2017.0\n",
       "65    64506874  2008.0\n",
       "64    55483770  2016.0\n",
       "39    55100437  2011.0\n",
       "95    54240821  2014.0\n",
       "61    52767889  1982.0\n",
       "69    43577636  2014.0"
      ]
     },
     "execution_count": 7,
     "metadata": {},
     "output_type": "execute_result"
    }
   ],
   "source": [
    "#Let's extract the top 20 highest grossing movies\n",
    "Top = movies[[\"Gross\",\"Year\"]]\n",
    "Top = Top.sort_values(\"Gross\", ascending = False)\n",
    "Top20 = Top.sort_values(\"Gross\", ascending = False).head(20)\n",
    "Top20"
   ]
  },
  {
   "cell_type": "markdown",
   "id": "53ed93fd",
   "metadata": {},
   "source": [
    "2. ANALYSIS ON HOW THE GROSS INCOME FROM TICKETS HAS INCREASED / DECREASED OVER YEARS"
   ]
  },
  {
   "cell_type": "code",
   "execution_count": 8,
   "id": "748d9a51",
   "metadata": {},
   "outputs": [
    {
     "data": {
      "text/plain": [
       "<BarContainer object of 9985 artists>"
      ]
     },
     "execution_count": 8,
     "metadata": {},
     "output_type": "execute_result"
    },
    {
     "data": {
      "image/png": "[encoded data removed]",
      "text/plain": [
       "<Figure size 432x288 with 1 Axes>"
      ]
     },
     "metadata": {
      "needs_background": "light"
     },
     "output_type": "display_data"
    }
   ],
   "source": [
    "#Let's take the Gross income values and compare them with the years they were released.\n",
    "plt.bar(Top[\"Year\"], Top[\"Gross\"])"
   ]
  },
  {
   "cell_type": "markdown",
   "id": "768baf07",
   "metadata": {},
   "source": [
    "3. FIND OUT THE TOP 10 YEARS THAT EARNED THE MOST"
   ]
  },
  {
   "cell_type": "code",
   "execution_count": 9,
   "id": "887f70c1",
   "metadata": {},
   "outputs": [
    {
     "data": {
      "text/html": [
       "<div>\n",
       "<style scoped>\n",
       "    .dataframe tbody tr th:only-of-type {\n",
       "        vertical-align: middle;\n",
       "    }\n",
       "\n",
       "    .dataframe tbody tr th {\n",
       "        vertical-align: top;\n",
       "    }\n",
       "\n",
       "    .dataframe thead th {\n",
       "        text-align: right;\n",
       "    }\n",
       "</style>\n",
       "<table border=\"1\" class=\"dataframe\">\n",
       "  <thead>\n",
       "    <tr style=\"text-align: right;\">\n",
       "      <th></th>\n",
       "      <th>Year</th>\n",
       "      <th>Gross</th>\n",
       "    </tr>\n",
       "  </thead>\n",
       "  <tbody>\n",
       "    <tr>\n",
       "      <th>0</th>\n",
       "      <td>2017.0</td>\n",
       "      <td>672610998</td>\n",
       "    </tr>\n",
       "    <tr>\n",
       "      <th>1</th>\n",
       "      <td>2011.0</td>\n",
       "      <td>572243800</td>\n",
       "    </tr>\n",
       "    <tr>\n",
       "      <th>2</th>\n",
       "      <td>2018.0</td>\n",
       "      <td>310134338</td>\n",
       "    </tr>\n",
       "    <tr>\n",
       "      <th>3</th>\n",
       "      <td>2012.0</td>\n",
       "      <td>234701742</td>\n",
       "    </tr>\n",
       "    <tr>\n",
       "      <th>4</th>\n",
       "      <td>2019.0</td>\n",
       "      <td>234642961</td>\n",
       "    </tr>\n",
       "    <tr>\n",
       "      <th>5</th>\n",
       "      <td>2008.0</td>\n",
       "      <td>223789580</td>\n",
       "    </tr>\n",
       "    <tr>\n",
       "      <th>6</th>\n",
       "      <td>2016.0</td>\n",
       "      <td>200426192</td>\n",
       "    </tr>\n",
       "    <tr>\n",
       "      <th>7</th>\n",
       "      <td>2015.0</td>\n",
       "      <td>131382542</td>\n",
       "    </tr>\n",
       "    <tr>\n",
       "      <th>8</th>\n",
       "      <td>2014.0</td>\n",
       "      <td>128919971</td>\n",
       "    </tr>\n",
       "    <tr>\n",
       "      <th>9</th>\n",
       "      <td>2013.0</td>\n",
       "      <td>88609552</td>\n",
       "    </tr>\n",
       "  </tbody>\n",
       "</table>\n",
       "</div>"
      ],
      "text/plain": [
       "     Year      Gross\n",
       "0  2017.0  672610998\n",
       "1  2011.0  572243800\n",
       "2  2018.0  310134338\n",
       "3  2012.0  234701742\n",
       "4  2019.0  234642961\n",
       "5  2008.0  223789580\n",
       "6  2016.0  200426192\n",
       "7  2015.0  131382542\n",
       "8  2014.0  128919971\n",
       "9  2013.0   88609552"
      ]
     },
     "execution_count": 9,
     "metadata": {},
     "output_type": "execute_result"
    }
   ],
   "source": [
    "#Sum the total income every year\n",
    "\n",
    "best = Top.groupby([\"Year\"]).sum()\n",
    "best = best.sort_values(\"Gross\", ascending = False).head(10)\n",
    "best = best.reset_index()\n",
    "best"
   ]
  },
  {
   "cell_type": "code",
   "execution_count": 10,
   "id": "b4aadeab",
   "metadata": {},
   "outputs": [
    {
     "data": {
      "text/plain": [
       "<matplotlib.collections.PathCollection at 0x1e8884bce50>"
      ]
     },
     "execution_count": 10,
     "metadata": {},
     "output_type": "execute_result"
    },
    {
     "data": {
      "image/png": "[encoded data removed]",
      "text/plain": [
       "<Figure size 432x288 with 1 Axes>"
      ]
     },
     "metadata": {
      "needs_background": "light"
     },
     "output_type": "display_data"
    }
   ],
   "source": [
    "#Plot the top 10 years that earned the most\n",
    "\n",
    "plt.scatter(best[\"Year\"], best[\"Gross\"])"
   ]
  }
 ],
 "metadata": {
  "kernelspec": {
   "display_name": "Python 3 (ipykernel)",
   "language": "python",
   "name": "python3"
  },
  "language_info": {
   "codemirror_mode": {
    "name": "ipython",
    "version": 3
   },
   "file_extension": ".py",
   "mimetype": "text/x-python",
   "name": "python",
   "nbconvert_exporter": "python",
   "pygments_lexer": "ipython3",
   "version": "3.9.7"
  }
 },
 "nbformat": 4,
 "nbformat_minor": 5
}
